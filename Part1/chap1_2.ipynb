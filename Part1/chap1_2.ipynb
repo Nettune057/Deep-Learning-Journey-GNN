{
 "cells": [
  {
   "cell_type": "code",
   "execution_count": 3,
   "metadata": {},
   "outputs": [],
   "source": [
    "import networkx as nx"
   ]
  },
  {
   "cell_type": "markdown",
   "metadata": {},
   "source": [
    "In a directed graph,\n",
    "also called a digraph, each edge has a direction or orientation. This means that the edge connects\n",
    "two nodes in a particular direction, where one node is the source and the other is the destination. In\n",
    "contrast, an undirected graph has undirected edges, where the edges have no direction. This means\n",
    "that the edge between two vertices can be traversed in either direction, and the order in which we\n",
    "visit the nodes does not matter"
   ]
  },
  {
   "cell_type": "markdown",
   "metadata": {},
   "source": [
    "Create Undirected Graph:"
   ]
  },
  {
   "cell_type": "code",
   "execution_count": 4,
   "metadata": {},
   "outputs": [],
   "source": [
    "G = nx.Graph()\n",
    "G.add_edges_from([('A', 'B'), ('A', 'C'), ('B', 'D'),\n",
    "('B', 'E'), ('C', 'F'), ('C', 'G')])"
   ]
  },
  {
   "cell_type": "markdown",
   "metadata": {},
   "source": [
    "![undirected graph](../image/undirected.png)"
   ]
  },
  {
   "cell_type": "markdown",
   "metadata": {},
   "source": [
    "Create Directed Graph:"
   ]
  },
  {
   "cell_type": "code",
   "execution_count": 5,
   "metadata": {},
   "outputs": [],
   "source": [
    "DG = nx.DiGraph()\n",
    "DG.add_edges_from([('A', 'B'), ('A', 'C'), ('B', 'D'),\n",
    "('B', 'E'), ('C', 'F'), ('C', 'G')])"
   ]
  },
  {
   "cell_type": "markdown",
   "metadata": {},
   "source": [
    "![directed graph](../image/directed.png)"
   ]
  },
  {
   "cell_type": "markdown",
   "metadata": {},
   "source": [
    "Create Undirected Graph has Weight"
   ]
  },
  {
   "cell_type": "code",
   "execution_count": 6,
   "metadata": {},
   "outputs": [],
   "source": [
    "WG = nx.Graph()\n",
    "WG.add_edges_from([('A', 'B', {\"weight\": 10}), ('A', 'C',\n",
    "{\"weight\": 20}), ('B', 'D', {\"weight\": 30}), ('B', 'E',\n",
    "{\"weight\": 40}), ('C', 'F', {\"weight\": 50}), ('C', 'G',\n",
    "{\"weight\": 60})])\n",
    "labels = nx.get_edge_attributes(WG, \"weight\")"
   ]
  },
  {
   "cell_type": "markdown",
   "metadata": {},
   "source": [
    "![directed graph](../image/undirwithweight.png)"
   ]
  },
  {
   "cell_type": "code",
   "execution_count": 7,
   "metadata": {},
   "outputs": [
    {
     "name": "stdout",
     "output_type": "stream",
     "text": [
      "False\n"
     ]
    }
   ],
   "source": [
    "G1 = nx.Graph()\n",
    "G1.add_edges_from([(1,2),(2,1),(4,5),(5,3),(3,4)])\n",
    "print(nx.is_connected(G1))"
   ]
  },
  {
   "cell_type": "code",
   "execution_count": 8,
   "metadata": {},
   "outputs": [
    {
     "name": "stdout",
     "output_type": "stream",
     "text": [
      "True\n"
     ]
    }
   ],
   "source": [
    "G2 = nx.Graph()\n",
    "G2.add_edges_from([(1,2),(2,3),(3,1),(1,4)])\n",
    "print(nx.is_connected(G2))"
   ]
  },
  {
   "cell_type": "markdown",
   "metadata": {},
   "source": [
    "Concept:\n",
    "\n",
    "- Graph object:\n",
    "    + Degree\n",
    "    + Neighbor\n",
    "\n",
    "- Graph measure:\n",
    "    + Centrality\n",
    "    + Density\n",
    "\n",
    "- Adjacency matrix representation."
   ]
  },
  {
   "cell_type": "markdown",
   "metadata": {},
   "source": [
    "Degree:\n",
    "- In an undirected graph, the degree of a vertex is the number of edges that are connected to it. Note that if the node is connected to itself (called a loop, or self-loop), it adds two to the degree.\n",
    "- In a directed graph, the degree is divided into two types: indegree and outdegree. The indegree\n",
    "(denoted by deg−( )) of a node represents the number of edges that point towards that node, while the outdegree (denoted by deg+( )) represents the number of edges that start from that node. In this case, a self-loop adds one to the indegree and to the outdegree."
   ]
  },
  {
   "cell_type": "code",
   "execution_count": 9,
   "metadata": {},
   "outputs": [
    {
     "name": "stdout",
     "output_type": "stream",
     "text": [
      "deg(B) = 3\n"
     ]
    }
   ],
   "source": [
    "#Example:\n",
    "G_a = nx.Graph()\n",
    "G_a.add_edges_from([('A', 'B'), ('A', 'C'), ('B', 'D'), ('B','E'), ('C', 'F'),('C','G')])\n",
    "print(f\"deg(B) = {G_a.degree['B']}\")"
   ]
  },
  {
   "cell_type": "code",
   "execution_count": 10,
   "metadata": {},
   "outputs": [
    {
     "name": "stdout",
     "output_type": "stream",
     "text": [
      "deg(A) = 2\n",
      "deg^-(A) = 1\n",
      "deg^+(A) = 2\n"
     ]
    }
   ],
   "source": [
    "DG_a = nx.DiGraph()\n",
    "DG_a.add_edges_from([('A', 'B'),('B', 'A'), ('A', 'C'), ('B', 'D'), ('B','E'), ('C', 'F'), ('C', 'G')])\n",
    "print(f\"deg(A) = {G_a.degree['A']}\")\n",
    "print(f\"deg^-(A) = {DG_a.in_degree['A']}\")\n",
    "print(f\"deg^+(A) = {DG_a.out_degree['A']}\")"
   ]
  },
  {
   "cell_type": "markdown",
   "metadata": {},
   "source": [
    "Neighbor:\n",
    "- **Neighbors** refer to the nodes directly connected to a particular node through an edge.\n",
    "- Two nodes are said to be **adjacent** if they share at least one common neighbor\n",
    "- Path:\n",
    "    + A **simple path** is a path that does not visit any node more than once, except for the start and end vertices\n",
    "    + A **cycle** is a path in which the first and last vertices are the same. A graph is said to be acyclic if it contains no cycles (such as trees and DAGs)"
   ]
  },
  {
   "cell_type": "markdown",
   "metadata": {},
   "source": [
    "Graph measures\n",
    "Centrality:\n",
    "- Helps us to identify key nodes in a graph based on their connectivity and influence on the flow of information or interactions within the network.\n",
    "* **Degree centrality** is one of the simplest and most commonly used measures of centrality. It\n",
    "is simply defined as the degree of the node. A high degree centrality indicates that a vertex is\n",
    "highly connected to other vertices in the graph, and thus significantly influences the network.\n",
    "* **Closeness centrality** measures how close a node is to all other nodes in the graph. It corresponds\n",
    "to the average length of the shortest path between the target node and all other nodes in the\n",
    "graph. A node with high closeness centrality can quickly reach all other vertices in the network.\n",
    "* **Betweenness centrality** measures the number of times a node lies on the shortest path between\n",
    "pairs of other nodes in the graph. A node with high betweenness centrality acts as a bottleneck\n",
    "or bridge between different parts of the graph."
   ]
  },
  {
   "cell_type": "code",
   "execution_count": 11,
   "metadata": {},
   "outputs": [
    {
     "name": "stdout",
     "output_type": "stream",
     "text": [
      "Degree centrality = {'A': 0.3333333333333333, 'B': 0.5, 'C': 0.5, 'D': 0.16666666666666666, 'E': 0.16666666666666666, 'F': 0.16666666666666666, 'G': 0.16666666666666666}\n",
      "Closeness centrality = {'A': 0.6, 'B': 0.5454545454545454, 'C': 0.5454545454545454, 'D': 0.375, 'E': 0.375, 'F': 0.375, 'G': 0.375}\n",
      "Betweenness centrality = {'A': 0.6, 'B': 0.6, 'C': 0.6, 'D': 0.0, 'E': 0.0, 'F': 0.0, 'G': 0.0}\n"
     ]
    }
   ],
   "source": [
    "print(f\"Degree centrality = {nx.degree_centrality(G)}\")\n",
    "print(f\"Closeness centrality = {nx.closeness_centrality(G)}\")\n",
    "print(f\"Betweenness centrality = {nx.betweenness_centrality(G)}\")"
   ]
  },
  {
   "cell_type": "code",
   "execution_count": 12,
   "metadata": {},
   "outputs": [],
   "source": [
    "adj = [[0,1,1,0,0,0,0],\n",
    " [1,0,0,1,1,0,0],\n",
    " [1,0,0,0,0,1,1],\n",
    " [0,1,0,0,0,0,0],\n",
    " [0,1,0,0,0,0,0],\n",
    " [0,0,1,0,0,0,0],\n",
    " [0,0,1,0,0,0,0]]"
   ]
  },
  {
   "cell_type": "markdown",
   "metadata": {},
   "source": [
    "Exploring graph algorithms\n",
    "\n",
    "BFS and DFS"
   ]
  },
  {
   "cell_type": "code",
   "execution_count": 18,
   "metadata": {},
   "outputs": [],
   "source": [
    "#BFS\n",
    "\n",
    "G_FS = nx.Graph()\n",
    "G_FS.add_edges_from([('A', 'B'), ('A', 'C'), ('B', 'D'),\n",
    "('B', 'E'), ('C', 'F'), ('C', 'G')])"
   ]
  },
  {
   "cell_type": "code",
   "execution_count": 16,
   "metadata": {},
   "outputs": [],
   "source": [
    "def bfs(graph, node):\n",
    "    visited, queue = [node], [node]\n",
    "    while queue:\n",
    "        node = queue.pop(0)\n",
    "        for neighbor in graph[node]:\n",
    "            if neighbor not in visited:\n",
    "                visited.append(neighbor)\n",
    "                queue.append(neighbor)\n",
    "    return visited"
   ]
  },
  {
   "cell_type": "code",
   "execution_count": 20,
   "metadata": {},
   "outputs": [],
   "source": [
    "visited = []\n",
    "def dfs(visited, graph, node):\n",
    "    if node not in visited:\n",
    "        visited.append(node)\n",
    "        for neighbor in graph[node]:\n",
    "            visited = dfs(visited,graph,neighbor)\n",
    "    return visited"
   ]
  },
  {
   "cell_type": "code",
   "execution_count": 19,
   "metadata": {},
   "outputs": [
    {
     "data": {
      "text/plain": [
       "['A', 'B', 'C', 'D', 'E', 'F', 'G']"
      ]
     },
     "execution_count": 19,
     "metadata": {},
     "output_type": "execute_result"
    }
   ],
   "source": [
    "bfs(G_FS,'A')"
   ]
  },
  {
   "cell_type": "code",
   "execution_count": 22,
   "metadata": {},
   "outputs": [
    {
     "data": {
      "text/plain": [
       "['A', 'B', 'D', 'E', 'C', 'F', 'G']"
      ]
     },
     "execution_count": 22,
     "metadata": {},
     "output_type": "execute_result"
    }
   ],
   "source": [
    "dfs(visited,G_FS,'A')"
   ]
  }
 ],
 "metadata": {
  "kernelspec": {
   "display_name": "GNN",
   "language": "python",
   "name": "python3"
  },
  "language_info": {
   "codemirror_mode": {
    "name": "ipython",
    "version": 3
   },
   "file_extension": ".py",
   "mimetype": "text/x-python",
   "name": "python",
   "nbconvert_exporter": "python",
   "pygments_lexer": "ipython3",
   "version": "3.10.11"
  }
 },
 "nbformat": 4,
 "nbformat_minor": 2
}
