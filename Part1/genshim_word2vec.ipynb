{
 "cells": [
  {
   "cell_type": "code",
   "execution_count": 7,
   "metadata": {},
   "outputs": [],
   "source": [
    "from gensim.models.word2vec import Word2Vec"
   ]
  },
  {
   "cell_type": "code",
   "execution_count": 8,
   "metadata": {},
   "outputs": [],
   "source": [
    "text = \"\"\"Lorem ipsum dolor sit amet, consectetur\n",
    "adipiscing elit. Nunc eu sem scelerisque, dictum eros\n",
    "aliquam, accumsan quam. Pellentesque tempus, lorem ut\n",
    "semper fermentum, ante turpis accumsan ex, sit amet\n",
    "ultricies tortor erat quis nulla. Nunc consectetur ligula\n",
    "sit amet purus porttitor, vel tempus tortor scelerisque.\n",
    "Vestibulum ante ipsum primis in faucibus orci luctus\n",
    "et ultrices posuere cubilia curae; Quisque suscipit\n",
    "ligula nec faucibus accumsan. Duis vulputate massa sit\n",
    "amet viverra hendrerit. Integer maximus quis sapien id\n",
    "convallis. Donec elementum placerat ex laoreet gravida.\n",
    "Praesent quis enim facilisis, bibendum est nec, pharetra\n",
    "ex. Etiam pharetra congue justo, eget imperdiet diam\n",
    "varius non. Mauris dolor lectus, interdum in laoreet\n",
    "quis, faucibus vitae velit. Donec lacinia dui eget\n",
    "maximus cursus. Class aptent taciti sociosqu ad litora\n",
    "torquent per conubia nostra, per inceptos himenaeos.\n",
    "Vivamus tincidunt velit eget nisi ornare convallis.\n",
    "Pellentesque habitant morbi tristique senectus et netus\n",
    "et malesuada fames ac turpis egestas. Donec tristique\n",
    "ultrices tortor at accumsan.\n",
    "\"\"\".split()"
   ]
  },
  {
   "cell_type": "code",
   "execution_count": 9,
   "metadata": {},
   "outputs": [],
   "source": [
    "model = Word2Vec([text],sg=1,vector_size=10,min_count=0,window=2,workers=2,seed=0)"
   ]
  },
  {
   "cell_type": "code",
   "execution_count": 10,
   "metadata": {},
   "outputs": [
    {
     "name": "stdout",
     "output_type": "stream",
     "text": [
      "Shape of W_embed: (121, 10)\n"
     ]
    }
   ],
   "source": [
    "print(f'Shape of W_embed: {model.wv.vectors.shape}')"
   ]
  },
  {
   "cell_type": "code",
   "execution_count": 12,
   "metadata": {},
   "outputs": [
    {
     "name": "stdout",
     "output_type": "stream",
     "text": [
      "Word embedding =\n",
      "[ 0.07254551  0.03830492  0.00243661 -0.04084453 -0.03039765 -0.08056319\n",
      " -0.09818466 -0.09601782 -0.06550466  0.0710962 ]\n"
     ]
    }
   ],
   "source": [
    "model.train([text], total_examples=model.corpus_count,epochs=10)\n",
    "print('Word embedding =')\n",
    "print(model.wv[0])"
   ]
  }
 ],
 "metadata": {
  "kernelspec": {
   "display_name": "GNN",
   "language": "python",
   "name": "python3"
  },
  "language_info": {
   "codemirror_mode": {
    "name": "ipython",
    "version": 3
   },
   "file_extension": ".py",
   "mimetype": "text/x-python",
   "name": "python",
   "nbconvert_exporter": "python",
   "pygments_lexer": "ipython3",
   "version": "3.10.12"
  }
 },
 "nbformat": 4,
 "nbformat_minor": 2
}
