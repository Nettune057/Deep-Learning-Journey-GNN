{
 "cells": [
  {
   "cell_type": "code",
   "execution_count": 5,
   "metadata": {},
   "outputs": [],
   "source": [
    "import numpy as np"
   ]
  },
  {
   "cell_type": "code",
   "execution_count": 6,
   "metadata": {},
   "outputs": [],
   "source": [
    "CONTEXT_SIZE = 2"
   ]
  },
  {
   "cell_type": "code",
   "execution_count": 7,
   "metadata": {},
   "outputs": [],
   "source": [
    "text = \"\"\"Lorem ipsum dolor sit amet, consectetur\n",
    "adipiscing elit. Nunc eu sem scelerisque, dictum eros\n",
    "aliquam, accumsan quam. Pellentesque tempus, lorem ut\n",
    "semper fermentum, ante turpis accumsan ex, sit amet\n",
    "ultricies tortor erat quis nulla. Nunc consectetur ligula\n",
    "sit amet purus porttitor, vel tempus tortor scelerisque.\n",
    "Vestibulum ante ipsum primis in faucibus orci luctus\n",
    "et ultrices posuere cubilia curae; Quisque suscipit\n",
    "ligula nec faucibus accumsan. Duis vulputate massa sit\n",
    "amet viverra hendrerit. Integer maximus quis sapien id\n",
    "convallis. Donec elementum placerat ex laoreet gravida.\n",
    "Praesent quis enim facilisis, bibendum est nec, pharetra\n",
    "ex. Etiam pharetra congue justo, eget imperdiet diam\n",
    "varius non. Mauris dolor lectus, interdum in laoreet\n",
    "quis, faucibus vitae velit. Donec lacinia dui eget\n",
    "maximus cursus. Class aptent taciti sociosqu ad litora\n",
    "torquent per conubia nostra, per inceptos himenaeos.\n",
    "Vivamus tincidunt velit eget nisi ornare convallis.\n",
    "Pellentesque habitant morbi tristique senectus et netus\n",
    "et malesuada fames ac turpis egestas. Donec tristique\n",
    "ultrices tortor at accumsan.\n",
    "\"\"\".split()"
   ]
  },
  {
   "cell_type": "code",
   "execution_count": 8,
   "metadata": {},
   "outputs": [],
   "source": [
    "skip_gram = []\n",
    "for i in range(CONTEXT_SIZE, len(text) - CONTEXT_SIZE):\n",
    "    array = [text[j] for j in np.arange(i - CONTEXT_SIZE, i + CONTEXT_SIZE + 1) if j != i]\n",
    "    skip_gram.append((text[i], array))"
   ]
  },
  {
   "cell_type": "code",
   "execution_count": 9,
   "metadata": {},
   "outputs": [
    {
     "name": "stdout",
     "output_type": "stream",
     "text": [
      "[('dolor', ['Lorem', 'ipsum', 'sit', 'amet,']), ('sit', ['ipsum', 'dolor', 'amet,', 'consectetur'])]\n"
     ]
    }
   ],
   "source": [
    "print(skip_gram[0:2])"
   ]
  },
  {
   "cell_type": "code",
   "execution_count": 10,
   "metadata": {},
   "outputs": [
    {
     "name": "stdout",
     "output_type": "stream",
     "text": [
      "Length of vocabulary = 121\n"
     ]
    }
   ],
   "source": [
    "vocab = set(text)\n",
    "VOCAB_SIZE = len(vocab)\n",
    "print(f\"Length of vocabulary = {VOCAB_SIZE}\")"
   ]
  }
 ],
 "metadata": {
  "kernelspec": {
   "display_name": "GNN",
   "language": "python",
   "name": "python3"
  },
  "language_info": {
   "codemirror_mode": {
    "name": "ipython",
    "version": 3
   },
   "file_extension": ".py",
   "mimetype": "text/x-python",
   "name": "python",
   "nbconvert_exporter": "python",
   "pygments_lexer": "ipython3",
   "version": "3.10.12"
  }
 },
 "nbformat": 4,
 "nbformat_minor": 2
}
